{
  "cells": [
    {
      "cell_type": "markdown",
      "metadata": {
        "id": "license"
      },
      "source": [
        "##### *Copyright 2021 Google LLC*\n",
        "*Licensed under the Apache License, Version 2.0 (the \"License\")*"
      ]
    },
    {
      "cell_type": "code",
      "execution_count": null,
      "metadata": {
        "cellView": "both",
        "id": "rKwqeqWBXANA"
      },
      "outputs": [],
      "source": [
        "# Licensed under the Apache License, Version 2.0 (the \"License\");\n",
        "# you may not use this file except in compliance with the License.\n",
        "# You may obtain a copy of the License at\n",
        "#\n",
        "# https://www.apache.org/licenses/LICENSE-2.0\n",
        "#\n",
        "# Unless required by applicable law or agreed to in writing, software\n",
        "# distributed under the License is distributed on an \"AS IS\" BASIS,\n",
        "# WITHOUT WARRANTIES OR CONDITIONS OF ANY KIND, either express or implied.\n",
        "# See the License for the specific language governing permissions and\n",
        "# limitations under the License."
      ]
    },
    {
      "cell_type": "markdown",
      "metadata": {
        "id": "hRTa3Ee15WsJ"
      },
      "source": [
        "# Compile a model for the Edge TPU"
      ]
    },
    {
      "cell_type": "markdown",
      "metadata": {
        "id": "TaX0smDP7xQY"
      },
      "source": [
        "This notebook offers a convenient way to compile a TensorFlow Lite model for the Edge TPU, in case you don't have a system that's compatible with the [Edge TPU Compiler](https://coral.ai/docs/edgetpu/compiler/) (Debian Linux only).\n",
        "\n",
        "Simply upload a compatible `.tflite` file to this Colab session, run the code below, and then download the compiled model.\n",
        "\n",
        "For more details about how to create a model that's compatible with the Edge TPU, see the [documentation at coral.ai](https://coral.ai/docs/edgetpu/models-intro/).\n"
      ]
    },
    {
      "cell_type": "markdown",
      "metadata": {
        "id": "viewin-badges"
      },
      "source": [
        "<a href=\"https://colab.research.google.com/github/google-coral/tutorials/blob/master/compile_for_edgetpu.ipynb\" target=\"_parent\"><img src=\"https://colab.research.google.com/assets/colab-badge.svg\" alt=\"Open in Colab\"></a>\n",
        "&nbsp;&nbsp;&nbsp;&nbsp;\n",
        "<a href=\"https://github.com/google-coral/tutorials/blob/master/compile_for_edgetpu.ipynb\" target=\"_parent\"><img src=\"https://img.shields.io/static/v1?logo=GitHub&label=&color=333333&style=flat&message=View%20on%20GitHub\" alt=\"View in GitHub\"></a>\n"
      ]
    },
    {
      "cell_type": "markdown",
      "metadata": {
        "id": "RZatNsloxg8q"
      },
      "source": [
        "## Uploading the compatible TF Lite models"
      ]
    },
    {
      "cell_type": "markdown",
      "metadata": {
        "id": "mkOQJOjMxkmn"
      },
      "source": [
        "The TensorFlow Lite model need to be fully quantized and need to meet all the [Edge TPU model requirements](https://coral.ai/docs/edgetpu/models-intro/#model-requirements).\n",
        "\n",
        "I have fully quantized the models and stored them on sciebo where I will download them from."
      ]
    },
    {
      "cell_type": "code",
      "source": [
        "! mkdir raw_models"
      ],
      "metadata": {
        "id": "v_9FjdaIvvcp"
      },
      "execution_count": null,
      "outputs": []
    },
    {
      "cell_type": "code",
      "execution_count": null,
      "metadata": {
        "id": "itv0Kj7N6ALw"
      },
      "outputs": [],
      "source": [
        "! wget -O raw_models/densenet_121_224_quant.tflite https://rwth-aachen.sciebo.de/s/yOAxPVFQR8pIk2K/download"
      ]
    },
    {
      "cell_type": "code",
      "source": [
        "! wget -O raw_models/inception_v3_299_quant.tflite https://rwth-aachen.sciebo.de/s/TuEhOkNvjvlSQEd/download"
      ],
      "metadata": {
        "id": "wPM_nsjLv7xQ"
      },
      "execution_count": null,
      "outputs": []
    },
    {
      "cell_type": "code",
      "source": [
        "! wget -O raw_models/mobilenet_v2_1.0_224_quant.tflite https://rwth-aachen.sciebo.de/s/KpU0yOOFstur4GQ/download"
      ],
      "metadata": {
        "id": "cuVQ3SWqv7eb"
      },
      "execution_count": null,
      "outputs": []
    },
    {
      "cell_type": "code",
      "source": [
        "! wget -O raw_models/resnet_50_224_quant.tflite https://rwth-aachen.sciebo.de/s/SVPNGYU5sKf50r5/download"
      ],
      "metadata": {
        "id": "QqWYerBev8NS"
      },
      "execution_count": null,
      "outputs": []
    },
    {
      "cell_type": "code",
      "source": [
        "! wget -O raw_models/vgg16_224_quant.tflite https://rwth-aachen.sciebo.de/s/Z5wpaFkchaA1Dee/download"
      ],
      "metadata": {
        "id": "KPVGZWzmv8e0"
      },
      "execution_count": null,
      "outputs": []
    },
    {
      "cell_type": "markdown",
      "source": [
        "Checking the file sizes if they look right:"
      ],
      "metadata": {
        "id": "XKUOCb9QvCup"
      }
    },
    {
      "cell_type": "code",
      "source": [
        "! ls -lh raw_models/"
      ],
      "metadata": {
        "id": "TJyyLRcWwpfV"
      },
      "execution_count": null,
      "outputs": []
    },
    {
      "cell_type": "markdown",
      "metadata": {
        "id": "9JPzsCxm05Qj"
      },
      "source": [
        "## Get the Edge TPU Compiler"
      ]
    },
    {
      "cell_type": "code",
      "execution_count": null,
      "metadata": {
        "id": "p6ZpWgrk21Ad"
      },
      "outputs": [],
      "source": [
        "! curl https://packages.cloud.google.com/apt/doc/apt-key.gpg | sudo apt-key add -\n",
        "\n",
        "! echo \"deb https://packages.cloud.google.com/apt coral-edgetpu-stable main\" | sudo tee /etc/apt/sources.list.d/coral-edgetpu.list\n",
        "\n",
        "! sudo apt-get update\n",
        "\n",
        "! sudo apt-get install edgetpu-compiler\t"
      ]
    },
    {
      "cell_type": "markdown",
      "metadata": {
        "id": "mtPcYiER3Ymp"
      },
      "source": [
        "## Compiling all combinations of the models..."
      ]
    },
    {
      "cell_type": "markdown",
      "source": [
        "Before we start, let's take care of the imports."
      ],
      "metadata": {
        "id": "hvG1T25G3ALO"
      }
    },
    {
      "cell_type": "code",
      "source": [
        "import os\n",
        "from itertools import chain, combinations"
      ],
      "metadata": {
        "id": "nkTRf2SX2Xm7"
      },
      "execution_count": null,
      "outputs": []
    },
    {
      "cell_type": "markdown",
      "source": [
        "First, I create a mapping of the models so it's easier to run a script. Adding the folder to the name makes it easier for running the commands later."
      ],
      "metadata": {
        "id": "Kki6LbkVw_9s"
      }
    },
    {
      "cell_type": "code",
      "source": [
        "model_folder_mapping = { 0: 'raw_models/densenet_121_224_quant.tflite',\n",
        "                   1: 'raw_models/inception_v3_299_quant.tflite',\n",
        "                   2: 'raw_models/mobilenet_v2_1.0_224_quant.tflite',\n",
        "                   3: 'raw_models/resnet_50_224_quant.tflite',\n",
        "                   4: 'raw_models/vgg16_224_quant.tflite'}"
      ],
      "metadata": {
        "id": "u85hOO_ew_zB"
      },
      "execution_count": null,
      "outputs": []
    },
    {
      "cell_type": "code",
      "source": [
        "def powerset(iterable):\n",
        "    \"powerset([1,2,3]) --> () (1,) (2,) (3,) (1,2) (1,3) (2,3) (1,2,3)\"\n",
        "    s = list(iterable)\n",
        "    # returning powerset starting at combinations of 2 onwards\n",
        "    return chain.from_iterable(combinations(s, r) for r in range(2, len(s)+1))"
      ],
      "metadata": {
        "id": "9v_5QqgI3kU5"
      },
      "execution_count": null,
      "outputs": []
    },
    {
      "cell_type": "code",
      "source": [
        "model_combinations = list(powerset(model_folder_mapping.keys()))"
      ],
      "metadata": {
        "id": "WryeCHu23Y4p"
      },
      "execution_count": null,
      "outputs": []
    },
    {
      "cell_type": "code",
      "source": [
        "model_combinations"
      ],
      "metadata": {
        "id": "oBYkrJXa4eMz"
      },
      "execution_count": null,
      "outputs": []
    },
    {
      "cell_type": "markdown",
      "source": [
        "Creating the directory to save the co-compiled models in different subdirectories."
      ],
      "metadata": {
        "id": "vEaa8H_A3MyX"
      }
    },
    {
      "cell_type": "code",
      "source": [
        "! mkdir compiled_models"
      ],
      "metadata": {
        "id": "EiEwRE2kXZar"
      },
      "execution_count": null,
      "outputs": []
    },
    {
      "cell_type": "code",
      "source": [
        "for i, comb in enumerate(model_combinations):\n",
        "  print('COMPILING NR {}...'.format(i))\n",
        "  cur_dir = 'compiled_models/models_' + str(i)\n",
        "  compile_command = '/usr/bin/edgetpu_compiler -o ' + cur_dir\n",
        "  os.makedirs(cur_dir, exist_ok=True)\n",
        "  for model in comb:\n",
        "    compile_command = compile_command + ' ' + model_folder_mapping[model]\n",
        "  os.system(compile_command)\n",
        "  print(\"Compiling {} done! Next one...\".format(i))\n",
        "\n",
        "print(\"Compiling finished.\")"
      ],
      "metadata": {
        "id": "GYKMxXaq4LM7"
      },
      "execution_count": null,
      "outputs": []
    },
    {
      "cell_type": "markdown",
      "metadata": {
        "id": "7R8JMQc1MMm5"
      },
      "source": [
        "Now the models are all co-compiled and in a folder with the other co-compiled ones. There is one folder for each combination. I just named iteratively from models_0 to models_25. Check folders to see which ones are in there.\n",
        "We also need the `inference_reference.csv` files to run our script on the Edge TPU. Therefore, we add the csv file to each folder. We also need the benchmark time for the models, so I'm creating another mapping for the times. For Inception v3 is no benchmark time given, so I'm using benchmark time from Inception v4. Also DenseNet is not further specified, so again I'm using the one from the [docs](https://coral.ai/docs/edgetpu/benchmarks/)."
      ]
    },
    {
      "cell_type": "code",
      "source": [
        "time_mapping = {\n",
        "    0: 25,\n",
        "    1: 102,\n",
        "    2: 2.6,\n",
        "    3: 56,\n",
        "    4: 343\n",
        "}\n",
        "# another model_mapping with 'edgetpu' in the name, so the compiled models\n",
        "model_mapping = { 0: 'densenet_121_224_quant_edgetpu.tflite',\n",
        "                   1: 'inception_v3_299_quant_edgetpu.tflite',\n",
        "                   2: 'mobilenet_v2_1.0_224_quant_edgetpu.tflite',\n",
        "                   3: 'resnet_50_224_quant_edgetpu.tflite',\n",
        "                   4: 'vgg16_224_quant_edgetpu.tflite'}"
      ],
      "metadata": {
        "id": "tlAEVvFRh3Ux"
      },
      "execution_count": null,
      "outputs": []
    },
    {
      "cell_type": "code",
      "source": [
        "for i, comb in enumerate(model_combinations):\n",
        "  cur_dir = 'compiled_models/models_' + str(i)\n",
        "  create_csv_cmd = 'touch ' + cur_dir + '/inference_reference_aarch64.csv'\n",
        "  os.system(create_csv_cmd)\n",
        "  insert_header_cmd = 'echo \"MODEL INFERENCE_TIME\" >> ' + cur_dir + '/inference_reference_aarch64.csv' \n",
        "  os.system(insert_header_cmd)\n",
        "  for model in comb:\n",
        "    model_with_time = model_mapping[model] + ' ' + str(time_mapping[model])\n",
        "    insert_model_and_time = 'echo ' + model_with_time + ' >> ' + cur_dir + '/inference_reference_aarch64.csv' \n",
        "    os.system(insert_model_and_time)"
      ],
      "metadata": {
        "id": "BEkq2FISi-pi"
      },
      "execution_count": null,
      "outputs": []
    },
    {
      "cell_type": "markdown",
      "metadata": {
        "id": "Oi9-Voc8A7VK"
      },
      "source": [
        "## Download the model"
      ]
    },
    {
      "cell_type": "markdown",
      "metadata": {
        "id": "XiugMm-jBbWl"
      },
      "source": [
        "Zipping the folder with the compiled files and downloading it."
      ]
    },
    {
      "cell_type": "code",
      "execution_count": null,
      "metadata": {
        "id": "x47uW_lI1DoV"
      },
      "outputs": [],
      "source": [
        "!zip -r /content/compiled_models.zip /content/compiled_models"
      ]
    },
    {
      "cell_type": "markdown",
      "metadata": {
        "id": "_TZTwG7nhm0C"
      },
      "source": [
        "## Run the model on the Edge TPU\n",
        "\n",
        "\n"
      ]
    },
    {
      "cell_type": "markdown",
      "metadata": {
        "id": "RwywT4ZpQjLf"
      },
      "source": [
        "You can now run the model on your Coral device with acceleration on the Edge TPU.\n",
        "\n",
        "Check out some examples for running inference at [coral.ai/examples](https://coral.ai/examples/#code-examples/)."
      ]
    }
  ],
  "metadata": {
    "accelerator": "GPU",
    "colab": {
      "collapsed_sections": [
        "license"
      ],
      "name": "compiling_for_edgetpu.ipynb",
      "private_outputs": true,
      "provenance": []
    },
    "kernelspec": {
      "display_name": "Python 3",
      "name": "python3"
    }
  },
  "nbformat": 4,
  "nbformat_minor": 0
}